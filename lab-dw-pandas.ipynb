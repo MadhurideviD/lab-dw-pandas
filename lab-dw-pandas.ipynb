{
 "cells": [
  {
   "cell_type": "markdown",
   "id": "25d7736c-ba17-4aff-b6bb-66eba20fbf4e",
   "metadata": {},
   "source": [
    "# Lab | Pandas"
   ]
  },
  {
   "cell_type": "markdown",
   "id": "d1973e9e-8be6-4039-b70e-d73ee0d94c99",
   "metadata": {},
   "source": [
    "In this lab, we will be working with the customer data from an insurance company, which can be found in the CSV file located at the following link: https://raw.githubusercontent.com/data-bootcamp-v4/data/main/file1.csv\n",
    "\n",
    "The data includes information such as customer ID, state, gender, education, income, and other variables that can be used to perform various analyses.\n",
    "\n",
    "Throughout the lab, we will be using the pandas library in Python to manipulate and analyze the data. Pandas is a powerful library that provides various data manipulation and analysis tools, including the ability to load and manipulate data from a variety of sources, including CSV files."
   ]
  },
  {
   "cell_type": "markdown",
   "id": "8045146f-f4f7-44d9-8cd9-130d6400c73a",
   "metadata": {},
   "source": [
    "### Data Description\n",
    "\n",
    "- Customer - Customer ID\n",
    "\n",
    "- ST - State where customers live\n",
    "\n",
    "- Gender - Gender of the customer\n",
    "\n",
    "- Education - Background education of customers \n",
    "\n",
    "- Customer Lifetime Value - Customer lifetime value(CLV) is the total revenue the client will derive from their entire relationship with a customer. In other words, is the predicted or calculated value of a customer over their entire duration as a policyholder with the insurance company. It is an estimation of the net profit that the insurance company expects to generate from a customer throughout their relationship with the company. Customer Lifetime Value takes into account factors such as the duration of the customer's policy, premium payments, claim history, renewal likelihood, and potential additional services or products the customer may purchase. It helps insurers assess the long-term profitability and value associated with retaining a particular customer.\n",
    "\n",
    "- Income - Customers income\n",
    "\n",
    "- Monthly Premium Auto - Amount of money the customer pays on a monthly basis as a premium for their auto insurance coverage. It represents the recurring cost that the insured person must pay to maintain their insurance policy and receive coverage for potential damages, accidents, or other covered events related to their vehicle.\n",
    "\n",
    "- Number of Open Complaints - Number of complaints the customer opened\n",
    "\n",
    "- Policy Type - There are three type of policies in car insurance (Corporate Auto, Personal Auto, and Special Auto)\n",
    "\n",
    "- Vehicle Class - Type of vehicle classes that customers have Two-Door Car, Four-Door Car SUV, Luxury SUV, Sports Car, and Luxury Car\n",
    "\n",
    "- Total Claim Amount - the sum of all claims made by the customer. It represents the total monetary value of all approved claims for incidents such as accidents, theft, vandalism, or other covered events.\n"
   ]
  },
  {
   "cell_type": "markdown",
   "id": "3a72419b-20fc-4905-817a-8c83abc59de6",
   "metadata": {},
   "source": [
    "External Resources: https://towardsdatascience.com/filtering-data-frames-in-pandas-b570b1f834b9"
   ]
  },
  {
   "cell_type": "markdown",
   "id": "8f8ece17-e919-4e23-96c0-c7c59778436a",
   "metadata": {},
   "source": [
    "## Challenge 1: Understanding the data\n",
    "\n",
    "In this challenge, you will use pandas to explore a given dataset. Your task is to gain a deep understanding of the data by analyzing its characteristics, dimensions, and statistical properties."
   ]
  },
  {
   "cell_type": "markdown",
   "id": "91437bd5-59a6-49c0-8150-ef0e6e6eb253",
   "metadata": {},
   "source": [
    "- Identify the dimensions of the dataset by determining the number of rows and columns it contains.\n",
    "- Determine the data types of each column and evaluate whether they are appropriate for the nature of the variable. You should also provide suggestions for fixing any incorrect data types.\n",
    "- Identify the number of unique values for each column and determine which columns appear to be categorical. You should also describe the unique values of each categorical column and the range of values for numerical columns, and give your insights.\n",
    "- Compute summary statistics such as mean, median, mode, standard deviation, and quartiles to understand the central tendency and distribution of the data for numerical columns. You should also provide your conclusions based on these summary statistics.\n",
    "- Compute summary statistics for categorical columns and providing your conclusions based on these statistics."
   ]
  },
  {
   "cell_type": "code",
   "execution_count": 9,
   "id": "dd4e8cd8-a6f6-486c-a5c4-1745b0c035f4",
   "metadata": {},
   "outputs": [],
   "source": [
    "import pandas as pd\n",
    "df = pd.read_csv('https://raw.githubusercontent.com/data-bootcamp-v4/data/main/file1.csv')\n"
   ]
  },
  {
   "cell_type": "code",
   "execution_count": 10,
   "id": "1ba340fa",
   "metadata": {},
   "outputs": [
    {
     "data": {
      "text/plain": [
       "(4008, 11)"
      ]
     },
     "execution_count": 10,
     "metadata": {},
     "output_type": "execute_result"
    }
   ],
   "source": [
    "df.shape"
   ]
  },
  {
   "cell_type": "code",
   "execution_count": 12,
   "id": "81d4fc2b",
   "metadata": {},
   "outputs": [
    {
     "data": {
      "text/plain": [
       "<bound method NDFrame.head of      Customer          ST GENDER             Education  \\\n",
       "0     RB50392  Washington    NaN                Master   \n",
       "1     QZ44356     Arizona      F              Bachelor   \n",
       "2     AI49188      Nevada      F              Bachelor   \n",
       "3     WW63253  California      M              Bachelor   \n",
       "4     GA49547  Washington      M  High School or Below   \n",
       "...       ...         ...    ...                   ...   \n",
       "4003      NaN         NaN    NaN                   NaN   \n",
       "4004      NaN         NaN    NaN                   NaN   \n",
       "4005      NaN         NaN    NaN                   NaN   \n",
       "4006      NaN         NaN    NaN                   NaN   \n",
       "4007      NaN         NaN    NaN                   NaN   \n",
       "\n",
       "     Customer Lifetime Value   Income  Monthly Premium Auto  \\\n",
       "0                        NaN      0.0                1000.0   \n",
       "1                 697953.59%      0.0                  94.0   \n",
       "2                1288743.17%  48767.0                 108.0   \n",
       "3                 764586.18%      0.0                 106.0   \n",
       "4                 536307.65%  36357.0                  68.0   \n",
       "...                      ...      ...                   ...   \n",
       "4003                     NaN      NaN                   NaN   \n",
       "4004                     NaN      NaN                   NaN   \n",
       "4005                     NaN      NaN                   NaN   \n",
       "4006                     NaN      NaN                   NaN   \n",
       "4007                     NaN      NaN                   NaN   \n",
       "\n",
       "     Number of Open Complaints     Policy Type  Vehicle Class  \\\n",
       "0                       1/0/00   Personal Auto  Four-Door Car   \n",
       "1                       1/0/00   Personal Auto  Four-Door Car   \n",
       "2                       1/0/00   Personal Auto   Two-Door Car   \n",
       "3                       1/0/00  Corporate Auto            SUV   \n",
       "4                       1/0/00   Personal Auto  Four-Door Car   \n",
       "...                        ...             ...            ...   \n",
       "4003                       NaN             NaN            NaN   \n",
       "4004                       NaN             NaN            NaN   \n",
       "4005                       NaN             NaN            NaN   \n",
       "4006                       NaN             NaN            NaN   \n",
       "4007                       NaN             NaN            NaN   \n",
       "\n",
       "      Total Claim Amount  \n",
       "0               2.704934  \n",
       "1            1131.464935  \n",
       "2             566.472247  \n",
       "3             529.881344  \n",
       "4              17.269323  \n",
       "...                  ...  \n",
       "4003                 NaN  \n",
       "4004                 NaN  \n",
       "4005                 NaN  \n",
       "4006                 NaN  \n",
       "4007                 NaN  \n",
       "\n",
       "[4008 rows x 11 columns]>"
      ]
     },
     "execution_count": 12,
     "metadata": {},
     "output_type": "execute_result"
    }
   ],
   "source": [
    "df.head"
   ]
  },
  {
   "cell_type": "code",
   "execution_count": 13,
   "id": "bd6957f2",
   "metadata": {},
   "outputs": [
    {
     "name": "stdout",
     "output_type": "stream",
     "text": [
      "<class 'pandas.core.frame.DataFrame'>\n",
      "RangeIndex: 4008 entries, 0 to 4007\n",
      "Data columns (total 11 columns):\n",
      " #   Column                     Non-Null Count  Dtype  \n",
      "---  ------                     --------------  -----  \n",
      " 0   Customer                   1071 non-null   object \n",
      " 1   ST                         1071 non-null   object \n",
      " 2   GENDER                     954 non-null    object \n",
      " 3   Education                  1071 non-null   object \n",
      " 4   Customer Lifetime Value    1068 non-null   object \n",
      " 5   Income                     1071 non-null   float64\n",
      " 6   Monthly Premium Auto       1071 non-null   float64\n",
      " 7   Number of Open Complaints  1071 non-null   object \n",
      " 8   Policy Type                1071 non-null   object \n",
      " 9   Vehicle Class              1071 non-null   object \n",
      " 10  Total Claim Amount         1071 non-null   float64\n",
      "dtypes: float64(3), object(8)\n",
      "memory usage: 344.6+ KB\n",
      "None\n"
     ]
    }
   ],
   "source": [
    "print(df.info())"
   ]
  },
  {
   "cell_type": "code",
   "execution_count": 18,
   "id": "4bf485eb",
   "metadata": {},
   "outputs": [
    {
     "data": {
      "text/plain": [
       "Index(['Customer', 'ST', 'GENDER', 'Education', 'Customer Lifetime Value',\n",
       "       'Income', 'Monthly Premium Auto', 'Number of Open Complaints',\n",
       "       'Policy Type', 'Vehicle Class', 'Total Claim Amount'],\n",
       "      dtype='object')"
      ]
     },
     "execution_count": 18,
     "metadata": {},
     "output_type": "execute_result"
    }
   ],
   "source": [
    "df.columns"
   ]
  },
  {
   "cell_type": "code",
   "execution_count": 31,
   "id": "74b406df",
   "metadata": {},
   "outputs": [
    {
     "name": "stdout",
     "output_type": "stream",
     "text": [
      "Index(['Customer', 'ST', 'GENDER', 'Education', 'Customer Lifetime Value',\n",
      "       'Number of Open Complaints', 'Policy Type', 'Vehicle Class'],\n",
      "      dtype='object')\n"
     ]
    }
   ],
   "source": [
    "categorical_columns = df.select_dtypes(include = 'object').columns\n",
    "print(categorical_columns)"
   ]
  },
  {
   "cell_type": "code",
   "execution_count": 37,
   "id": "50d4d2f5",
   "metadata": {},
   "outputs": [
    {
     "name": "stdout",
     "output_type": "stream",
     "text": [
      "\n",
      "Unique values in 'Customer':\n",
      "['RB50392' 'QZ44356' 'AI49188' ... 'CW49887' 'MY31220' nan]\n",
      "\n",
      "Unique values in 'ST':\n",
      "['Washington' 'Arizona' 'Nevada' 'California' 'Oregon' 'Cali' 'AZ' 'WA'\n",
      " nan]\n",
      "\n",
      "Unique values in 'GENDER':\n",
      "[nan 'F' 'M' 'Femal' 'Male' 'female']\n",
      "\n",
      "Unique values in 'Education':\n",
      "['Master' 'Bachelor' 'High School or Below' 'College' 'Bachelors' 'Doctor'\n",
      " nan]\n",
      "\n",
      "Unique values in 'Customer Lifetime Value':\n",
      "[nan '697953.59%' '1288743.17%' ... '2031499.76%' '323912.47%'\n",
      " '899704.02%']\n",
      "\n",
      "Unique values in 'Number of Open Complaints':\n",
      "['1/0/00' '1/2/00' '1/1/00' '1/3/00' '1/5/00' '1/4/00' nan]\n",
      "\n",
      "Unique values in 'Policy Type':\n",
      "['Personal Auto' 'Corporate Auto' 'Special Auto' nan]\n",
      "\n",
      "Unique values in 'Vehicle Class':\n",
      "['Four-Door Car' 'Two-Door Car' 'SUV' 'Luxury SUV' 'Sports Car'\n",
      " 'Luxury Car' nan]\n"
     ]
    }
   ],
   "source": [
    "for col in categorical_columns:\n",
    "    print(f\"\\nUnique values in '{col}':\")\n",
    "    print(df[col].unique())"
   ]
  },
  {
   "cell_type": "code",
   "execution_count": 41,
   "id": "d81ae6c7",
   "metadata": {},
   "outputs": [
    {
     "name": "stdout",
     "output_type": "stream",
     "text": [
      "Index(['Income', 'Monthly Premium Auto', 'Total Claim Amount'], dtype='object')\n"
     ]
    }
   ],
   "source": [
    "numerical_columns = df.select_dtypes(include = ['float64']).columns\n",
    "print(numerical_columns)"
   ]
  },
  {
   "cell_type": "code",
   "execution_count": 42,
   "id": "39c7df28",
   "metadata": {},
   "outputs": [
    {
     "name": "stdout",
     "output_type": "stream",
     "text": [
      "             Income  Monthly Premium Auto  Total Claim Amount\n",
      "count   1071.000000           1071.000000         1071.000000\n",
      "mean   39295.701214            193.234360          404.986909\n",
      "std    30469.427060           1601.190369          293.027260\n",
      "min        0.000000             61.000000            0.382107\n",
      "25%    14072.000000             68.000000          202.157702\n",
      "50%    36234.000000             83.000000          354.729129\n",
      "75%    64631.000000            109.500000          532.800000\n",
      "max    99960.000000          35354.000000         2893.239678\n"
     ]
    }
   ],
   "source": [
    "print(df[numerical_columns].describe())"
   ]
  },
  {
   "cell_type": "code",
   "execution_count": 44,
   "id": "65e4486d",
   "metadata": {},
   "outputs": [
    {
     "name": "stdout",
     "output_type": "stream",
     "text": [
      "Income                  36234.000000\n",
      "Monthly Premium Auto       83.000000\n",
      "Total Claim Amount        354.729129\n",
      "dtype: float64\n"
     ]
    }
   ],
   "source": [
    "print(df[numerical_columns].median())"
   ]
  },
  {
   "cell_type": "code",
   "execution_count": 49,
   "id": "9b359a7c",
   "metadata": {},
   "outputs": [
    {
     "name": "stdout",
     "output_type": "stream",
     "text": [
      "   Income  Monthly Premium Auto  Total Claim Amount\n",
      "0     0.0                  65.0               321.6\n"
     ]
    }
   ],
   "source": [
    "print(df[numerical_columns].mode())"
   ]
  },
  {
   "cell_type": "code",
   "execution_count": 50,
   "id": "cfc78f6f",
   "metadata": {},
   "outputs": [
    {
     "name": "stdout",
     "output_type": "stream",
     "text": [
      "\n",
      "Summary of categorical column 'Customer':\n",
      "Customer\n",
      "RB50392    1\n",
      "HJ15383    1\n",
      "AO74776    1\n",
      "HQ82233    1\n",
      "OL72737    1\n",
      "          ..\n",
      "RO26085    1\n",
      "ES57969    1\n",
      "JK55587    1\n",
      "RN97635    1\n",
      "MY31220    1\n",
      "Name: count, Length: 1071, dtype: int64\n",
      "Most common (mode): AA71604\n",
      "\n",
      "Summary of categorical column 'ST':\n",
      "ST\n",
      "Oregon        320\n",
      "California    211\n",
      "Arizona       186\n",
      "Cali          120\n",
      "Nevada         98\n",
      "Washington     81\n",
      "WA             30\n",
      "AZ             25\n",
      "Name: count, dtype: int64\n",
      "Most common (mode): Oregon\n",
      "\n",
      "Summary of categorical column 'GENDER':\n",
      "GENDER\n",
      "F         457\n",
      "M         413\n",
      "Male       39\n",
      "female     28\n",
      "Femal      17\n",
      "Name: count, dtype: int64\n",
      "Most common (mode): F\n",
      "\n",
      "Summary of categorical column 'Education':\n",
      "Education\n",
      "Bachelor                324\n",
      "College                 313\n",
      "High School or Below    296\n",
      "Master                   94\n",
      "Doctor                   37\n",
      "Bachelors                 7\n",
      "Name: count, dtype: int64\n",
      "Most common (mode): Bachelor\n",
      "\n",
      "Summary of categorical column 'Customer Lifetime Value':\n",
      "Customer Lifetime Value\n",
      "445811.34%     4\n",
      "251459.20%     4\n",
      "272535.64%     3\n",
      "578018.22%     3\n",
      "684615.03%     3\n",
      "              ..\n",
      "245357.08%     1\n",
      "507566.27%     1\n",
      "321497.94%     1\n",
      "1227534.31%    1\n",
      "899704.02%     1\n",
      "Name: count, Length: 1027, dtype: int64\n",
      "Most common (mode): 251459.20%\n",
      "\n",
      "Summary of categorical column 'Number of Open Complaints':\n",
      "Number of Open Complaints\n",
      "1/0/00    830\n",
      "1/1/00    138\n",
      "1/2/00     50\n",
      "1/3/00     34\n",
      "1/4/00     13\n",
      "1/5/00      6\n",
      "Name: count, dtype: int64\n",
      "Most common (mode): 1/0/00\n",
      "\n",
      "Summary of categorical column 'Policy Type':\n",
      "Policy Type\n",
      "Personal Auto     780\n",
      "Corporate Auto    234\n",
      "Special Auto       57\n",
      "Name: count, dtype: int64\n",
      "Most common (mode): Personal Auto\n",
      "\n",
      "Summary of categorical column 'Vehicle Class':\n",
      "Vehicle Class\n",
      "Four-Door Car    576\n",
      "Two-Door Car     205\n",
      "SUV              199\n",
      "Sports Car        57\n",
      "Luxury SUV        20\n",
      "Luxury Car        14\n",
      "Name: count, dtype: int64\n",
      "Most common (mode): Four-Door Car\n"
     ]
    }
   ],
   "source": [
    "for col in categorical_columns:\n",
    "    print(f\"\\nSummary of categorical column '{col}':\")\n",
    "    print(df[col].value_counts())\n",
    "    print(\"Most common (mode):\", df[col].mode()[0])"
   ]
  },
  {
   "cell_type": "markdown",
   "id": "4a703890-63db-4944-b7ab-95a4f8185120",
   "metadata": {},
   "source": [
    "## Challenge 2: analyzing the data"
   ]
  },
  {
   "cell_type": "markdown",
   "id": "0776a403-c56a-452f-ac33-5fd4fdb06fc7",
   "metadata": {},
   "source": [
    "### Exercise 1"
   ]
  },
  {
   "cell_type": "markdown",
   "id": "eedbc484-da4d-4f9c-9343-e1d44311a87e",
   "metadata": {},
   "source": [
    "The marketing team wants to know the top 5 less common customer locations. Create a pandas Series object that contains the customer locations and their frequencies, and then retrieve the top 5 less common locations in ascending order."
   ]
  },
  {
   "cell_type": "code",
   "execution_count": 53,
   "id": "2dca5073-4520-4f42-9390-4b92733284ed",
   "metadata": {},
   "outputs": [
    {
     "name": "stdout",
     "output_type": "stream",
     "text": [
      "ST\n",
      "AZ             25\n",
      "WA             30\n",
      "Washington     81\n",
      "Nevada         98\n",
      "Cali          120\n",
      "Name: count, dtype: int64\n"
     ]
    }
   ],
   "source": [
    "location_counts = df['ST'].value_counts()\n",
    "sorted_locations = location_counts.sort_values(ascending=True)\n",
    "top_5_least_common = sorted_locations.head(5)\n",
    "print(top_5_least_common)"
   ]
  },
  {
   "cell_type": "markdown",
   "id": "0ce80f43-4afa-43c7-a78a-c917444da4e0",
   "metadata": {},
   "source": [
    "### Exercise 2\n",
    "\n",
    "The sales team wants to know the total number of policies sold for each type of policy. Create a pandas Series object that contains the policy types and their total number of policies sold, and then retrieve the policy type with the highest number of policies sold."
   ]
  },
  {
   "cell_type": "markdown",
   "id": "a9f13997-1555-4f98-aca6-970fda1d2c3f",
   "metadata": {},
   "source": [
    "*Hint:*\n",
    "- *Using value_counts() method simplifies this analysis.*\n",
    "- *Futhermore, there is a method that returns the index of the maximum value in a column or row.*\n"
   ]
  },
  {
   "cell_type": "code",
   "execution_count": 55,
   "id": "bcfad6c1-9af2-4b0b-9aa9-0dc5c17473c0",
   "metadata": {},
   "outputs": [
    {
     "name": "stdout",
     "output_type": "stream",
     "text": [
      "Policy Type\n",
      "Personal Auto     780\n",
      "Corporate Auto    234\n",
      "Special Auto       57\n",
      "Name: count, dtype: int64\n"
     ]
    }
   ],
   "source": [
    "policy_counts =df['Policy Type'].value_counts()\n",
    "print(policy_counts)\n"
   ]
  },
  {
   "cell_type": "code",
   "execution_count": 61,
   "id": "f0a70f7e",
   "metadata": {},
   "outputs": [
    {
     "name": "stdout",
     "output_type": "stream",
     "text": [
      "Personal Auto:780\n"
     ]
    }
   ],
   "source": [
    "common_policy = policy_counts.idxmax()\n",
    "common_count = policy_counts.max()\n",
    "print(f\"{common_policy}:{common_count}\")"
   ]
  },
  {
   "cell_type": "markdown",
   "id": "0b863fd3-bf91-4d5d-86eb-be29ed9f5b70",
   "metadata": {},
   "source": [
    "### Exercise 3\n",
    "\n",
    "The sales team wants to know if customers with Personal Auto have a lower income than those with Corporate Auto. How does the average income compare between the two policy types?"
   ]
  },
  {
   "cell_type": "markdown",
   "id": "b1386d75-2810-4aa1-93e0-9485aa12d552",
   "metadata": {},
   "source": [
    "- Use *loc* to create two dataframes: one containing only Personal Auto policies and one containing only Corporate Auto policies.\n",
    "- Calculate the average income for each policy.\n",
    "- Print the results."
   ]
  },
  {
   "cell_type": "code",
   "execution_count": 66,
   "id": "0c0563cf-6f8b-463d-a321-651a972f82e5",
   "metadata": {},
   "outputs": [
    {
     "name": "stdout",
     "output_type": "stream",
     "text": [
      "Number of Personal Auto customers: 780\n",
      "Number of Corporate Auto customers: 234\n",
      "38180.69871794872\n",
      "41390.31196581197\n"
     ]
    }
   ],
   "source": [
    "df['Income'] = df['Income'].replace(',','').astype(float)\n",
    "personal_auto_df = df.loc[df['Policy Type'] == 'Personal Auto']\n",
    "corporate_auto_df = df.loc[df['Policy Type'] == 'Corporate Auto']\n",
    "print(\"Number of Personal Auto customers:\", len(personal_auto_df))\n",
    "print(\"Number of Corporate Auto customers:\", len(corporate_auto_df))\n",
    "\n",
    "avg_income_personal = personal_auto_df['Income'].mean()\n",
    "avg_income_corporate = corporate_auto_df['Income'].mean()\n",
    "\n",
    "print(avg_income_personal)\n",
    "print(avg_income_corporate)"
   ]
  },
  {
   "cell_type": "markdown",
   "id": "80b16c27-f4a5-4727-a229-1f88671cf4e2",
   "metadata": {},
   "source": [
    "### Bonus: Exercise 4\n"
   ]
  },
  {
   "cell_type": "markdown",
   "id": "ac584986-299b-475f-ac2e-928c16c3f512",
   "metadata": {},
   "source": [
    "Your goal is to identify customers with a high policy claim amount.\n",
    "\n",
    "Instructions:\n",
    "\n",
    "- Review again the statistics for total claim amount to gain an understanding of the data.\n",
    "- To identify potential areas for improving customer retention and profitability, we want to focus on customers with a high policy claim amount. Consider customers with a high policy claim amount to be those in the top 25% of the total claim amount. Create a pandas DataFrame object that contains information about customers with a policy claim amount greater than the 75th percentile.\n",
    "- Use DataFrame methods to calculate summary statistics about the high policy claim amount data. "
   ]
  },
  {
   "cell_type": "markdown",
   "id": "4e3af5f1-6023-4b05-9c01-d05392daa650",
   "metadata": {},
   "source": [
    "*Note: When analyzing data, we often want to focus on certain groups of values to gain insights. Percentiles are a useful tool to help us define these groups. A percentile is a measure that tells us what percentage of values in a dataset are below a certain value. For example, the 75th percentile represents the value below which 75% of the data falls. Similarly, the 25th percentile represents the value below which 25% of the data falls. When we talk about the top 25%, we are referring to the values that fall above the 75th percentile, which represent the top quarter of the data. On the other hand, when we talk about the bottom 25%, we are referring to the values that fall below the 25th percentile, which represent the bottom quarter of the data. By focusing on these groups, we can identify patterns and trends that may be useful for making decisions and taking action.*\n",
    "\n",
    "*Hint: look for a method that gives you the percentile or quantile 0.75 and 0.25 for a Pandas Series.*"
   ]
  },
  {
   "cell_type": "markdown",
   "id": "2d234634-50bd-41e0-88f7-d5ba684455d1",
   "metadata": {},
   "source": [
    "*Hint 2: check `Boolean selection according to the values of a single column` in https://towardsdatascience.com/filtering-data-frames-in-pandas-b570b1f834b9*"
   ]
  },
  {
   "cell_type": "code",
   "execution_count": null,
   "id": "b731bca6-a760-4860-a27b-a33efa712ce0",
   "metadata": {},
   "outputs": [],
   "source": [
    "# Your code here"
   ]
  }
 ],
 "metadata": {
  "kernelspec": {
   "display_name": "base",
   "language": "python",
   "name": "python3"
  },
  "language_info": {
   "codemirror_mode": {
    "name": "ipython",
    "version": 3
   },
   "file_extension": ".py",
   "mimetype": "text/x-python",
   "name": "python",
   "nbconvert_exporter": "python",
   "pygments_lexer": "ipython3",
   "version": "3.12.7"
  }
 },
 "nbformat": 4,
 "nbformat_minor": 5
}
